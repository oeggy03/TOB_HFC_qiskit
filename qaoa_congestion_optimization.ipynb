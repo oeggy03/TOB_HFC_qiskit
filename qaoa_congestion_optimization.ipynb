{
 "cells": [
  {
   "cell_type": "code",
   "execution_count": null,
   "id": "bf7284d9",
   "metadata": {
    "scrolled": false
   },
   "outputs": [],
   "source": []
  },
  {
   "cell_type": "code",
   "execution_count": 1,
   "id": "42df10ae",
   "metadata": {},
   "outputs": [
    {
     "data": {
      "image/png": "[encoded data removed]",
      "text/plain": [
       "<Figure size 640x480 with 1 Axes>"
      ]
     },
     "metadata": {},
     "output_type": "display_data"
    }
   ],
   "source": [
    "# Firstly, let's visualise our graph\n",
    "\n",
    "import rustworkx as rx\n",
    "from rustworkx.visualization import mpl_draw\n",
    "\n",
    "num_nodes = 6\n",
    "# The edge syntax is (start, end, weight)\n",
    "edges = [(0, 1, None), (1, 2, None), (0, 3, None), (3, 4, None), (4, 5, None), (2, 4, None), (0, 5, None)]\n",
    "\n",
    "# Make a directed acyclic graph\n",
    "G = rx.PyDAG()\n",
    "G.add_nodes_from(range(num_nodes))\n",
    "G.add_edges_from(edges)\n",
    "layout = rx.digraph_shell_layout(G)\n",
    "mpl_draw(G, layout, with_labels=True, node_color=\"#00e5cc\")"
   ]
  },
  {
   "cell_type": "code",
   "execution_count": 2,
   "id": "5ec0119a",
   "metadata": {},
   "outputs": [],
   "source": [
    "# Taken from https://qiskit.org/ecosystem/ibm-runtime/tutorials/qaoa_with_primitives.html\n",
    "\n",
    "# General imports\n",
    "import numpy as np\n",
    "\n",
    "# Pre-defined ansatz circuit, operator class and visualization tools\n",
    "from qiskit.circuit.library import QAOAAnsatz\n",
    "from qiskit.quantum_info import SparsePauliOp\n",
    "from qiskit.visualization import plot_distribution\n",
    "\n",
    "# IBM Qiskit Runtime\n",
    "from qiskit_ibm_runtime import QiskitRuntimeService\n",
    "from qiskit_ibm_runtime import Estimator, Sampler, Session\n",
    "\n",
    "# SciPy minimizer routine\n",
    "from scipy.optimize import minimize\n",
    "\n",
    "%config InlineBackend.figure_format='retina'"
   ]
  },
  {
   "cell_type": "code",
   "execution_count": 6,
   "id": "80bdbe34",
   "metadata": {},
   "outputs": [],
   "source": [
    "service = QiskitRuntimeService()\n",
    "backend = \"ibmq_qasm_simulator\""
   ]
  },
  {
   "cell_type": "code",
   "execution_count": 26,
   "id": "54cc0400",
   "metadata": {},
   "outputs": [
    {
     "name": "stdout",
     "output_type": "stream",
     "text": [
      "Ising Hamiltonian:\n",
      "SparsePauliOp(['IIZ', 'IIZ', 'IIZ', 'IIZ', 'IIZ', 'IIZ', 'IIZ', 'IIZ', 'IIZ', 'IIZ', 'IIZ', 'IIZ', 'IIZ', 'IIZ', 'IIZ', 'IIZ', 'IIZ', 'IIZ', 'IIZ', 'IIZ', 'IIZ', 'IIZ', 'IIZ', 'IIZ', 'IIZ', 'IIZ', 'IIZ', 'IIZ', 'IIZ', 'IIZ', 'IIZ', 'IIZ', 'IIZ', 'IIZ', 'IIZ', 'IIZ', 'IIZ', 'IIZ', 'IIZ', 'IIZ', 'IIZ', 'IIZ', 'IIZ', 'IIZ', 'IIZ', 'IIZ', 'IIZ', 'IIZ', 'IIZ', 'IIZ', 'IIZ', 'IIZ', 'IIZ', 'IIZ', 'IIZ', 'IIZ', 'IIZ', 'IIZ', 'IIZ', 'IIZ', 'IIZ', 'IIZ', 'IIZ', 'IIZ', 'IIZ', 'IIZ', 'IIZ', 'IIZ', 'IIZ', 'IIZ', 'IIZ', 'IIZ', 'IIZ', 'IIZ', 'IIZ', 'IIZ', 'IIZ', 'IIZ', 'IIZ', 'IIZ', 'IIZ', 'IIZ', 'IIZ', 'IIZ', 'IIZ', 'IIZ', 'IIZ', 'IIZ', 'IIZ', 'IIZ', 'IIZ', 'IIZ', 'IIZ', 'IIZ', 'IIZ', 'IIZ', 'IIZ', 'IIZ', 'IIZ', 'IIZ', 'IIZ', 'IIZ', 'IIZ', 'IIZ', 'IIZ', 'IIZ', 'IIZ', 'IIZ', 'IIZ', 'IIZ', 'IIZ', 'IIZ', 'IIZ', 'IIZ', 'IIZ', 'IIZ', 'IIZ', 'IIZ', 'IIZ', 'IIZ', 'IIZ', 'IIZ', 'IIZ', 'IIZ', 'IIZ', 'IIZ', 'IIZ', 'IIZ', 'IIZ', 'IIZ', 'IIZ', 'IIZ', 'IIZ', 'IIZ', 'IIZ', 'IIZ', 'IIZ', 'IIZ', 'IIZ', 'IIZ', 'IIZ', 'IIZ', 'IIZ', 'IIZ', 'IIZ', 'IIZ', 'IIZ', 'IIZ', 'IIZ', 'IIZ', 'IIZ', 'IIZ', 'IIZ', 'IIZ', 'IIZ', 'IIZ', 'IIZ', 'IIZ', 'IIZ', 'IIZ', 'IIZ', 'IIZ', 'IIZ', 'IIZ', 'IIZ', 'IIZ', 'IIZ', 'IIZ', 'IIZ', 'IIZ', 'IIZ', 'IIZ', 'IIZ', 'IIZ', 'IIZ', 'IIZ', 'IIZ', 'IIZ', 'IIZ', 'IIZ', 'IIZ', 'IIZ', 'IIZ', 'IIZ', 'IIZ', 'IIZ', 'IIZ', 'IIZ', 'IIZ', 'IIZ', 'IIZ', 'IIZ', 'IIZ', 'IIZ', 'IIZ', 'IIZ', 'IIZ', 'IIZ', 'IIZ', 'IIZ', 'IIZ', 'IIZ', 'IIZ', 'IIZ', 'IIZ', 'IIZ', 'IIZ', 'IIZ', 'IIZ', 'IIZ', 'IIZ', 'IIZ', 'IIZ', 'IIZ', 'IIZ', 'IIZ', 'IIZ', 'IIZ', 'IIZ', 'IIZ', 'IIZ', 'IIZ', 'IIZ', 'IIZ', 'IIZ', 'IIZ', 'IIZ', 'IIZ', 'IIZ', 'IIZ', 'IIZ', 'IIZ', 'IIZ', 'IIZ', 'IIZ', 'IIZ', 'IIZ', 'IIZ', 'IIZ', 'IIZ', 'IIZ', 'IIZ', 'IIZ', 'IIZ', 'IIZ', 'IIZ', 'IIZ', 'IIZ', 'IIZ', 'IIZ', 'IIZ', 'IIZ', 'IIZ', 'IIZ', 'IIZ', 'IIZ', 'IIZ', 'IIZ', 'IIZ', 'IIZ', 'IIZ', 'IIZ', 'IIZ', 'IIZ', 'IIZ', 'IIZ', 'IIZ', 'IIZ', 'IIZ', 'IIZ', 'IIZ', 'IIZ', 'IIZ', 'IIZ', 'IIZ', 'IIZ', 'IIZ', 'IIZ', 'IIZ', 'IIZ', 'IIZ', 'IIZ', 'IIZ', 'IIZ', 'IIZ', 'IIZ', 'IIZ', 'IIZ', 'IIZ', 'IIZ', 'IIZ', 'IIZ', 'IIZ', 'IIZ', 'IIZ', 'IIZ', 'IIZ', 'IIZ', 'IIZ', 'IIZ', 'IIZ', 'IIZ', 'IIZ', 'IIZ', 'IIZ', 'IIZ', 'IIZ', 'IIZ', 'IIZ', 'IIZ', 'IIZ', 'IIZ', 'IIZ', 'IIZ', 'IIZ', 'IIZ', 'IIZ', 'IIZ', 'IIZ', 'IIZ', 'IIZ', 'IIZ', 'IIZ', 'IIZ', 'IIZ', 'IIZ', 'IIZ', 'IIZ', 'IIZ', 'IIZ', 'IIZ', 'IIZ', 'IIZ', 'IIZ', 'IIZ', 'IIZ', 'IIZ', 'IIZ', 'IIZ', 'IIZ', 'IIZ', 'IIZ', 'IIZ', 'IIZ', 'IIZ', 'IIZ', 'IIZ', 'IIZ', 'IIZ', 'IIZ', 'IIZ', 'IIZ', 'IIZ', 'IIZ', 'IIZ', 'IIZ', 'IIZ', 'IIZ', 'IIZ', 'IIZ', 'IIZ', 'IIZ', 'IIZ', 'IIZ', 'IIZ', 'IIZ', 'IIZ', 'IIZ', 'IIZ', 'IIZ', 'IIZ', 'IIZ', 'IIZ', 'IIZ', 'IIZ', 'IIZ', 'IIZ', 'IIZ', 'IIZ', 'IIZ', 'IIZ', 'IIZ', 'IIZ', 'IIZ', 'IIZ', 'IIZ', 'IIZ', 'IIZ', 'IIZ', 'IIZ', 'IIZ', 'IIZ', 'IIZ', 'IIZ', 'IIZ', 'IIZ', 'IIZ', 'IIZ', 'IIZ', 'IIZ', 'IIZ', 'IIZ', 'IIZ', 'IIZ', 'IIZ', 'IIZ', 'IIZ', 'IIZ', 'IIZ', 'IIZ', 'IIZ', 'IIZ', 'IIZ', 'IIZ', 'IIZ', 'IIZ', 'IIZ', 'IIZ', 'IIZ', 'IIZ', 'IIZ', 'IIZ', 'IIZ', 'IIZ', 'IIZ', 'IIZ', 'IIZ', 'IIZ', 'IIZ', 'IIZ', 'IIZ', 'IIZ', 'IIZ', 'IIZ', 'IIZ', 'IIZ', 'IIZ', 'IIZ', 'IIZ', 'IIZ', 'IIZ', 'IIZ', 'IIZ', 'IIZ', 'IIZ', 'IIZ', 'IIZ', 'IIZ', 'IIZ', 'IIZ', 'IIZ', 'IIZ', 'IIZ', 'IIZ', 'IIZ', 'IIZ', 'IIZ', 'IIZ', 'IIZ', 'IIZ', 'IIZ', 'IIZ', 'IIZ', 'IIZ', 'IIZ', 'IIZ', 'IIZ', 'IIZ', 'IIZ', 'IIZ', 'IIZ', 'IIZ', 'IIZ', 'IIZ', 'IIZ', 'IIZ', 'IIZ', 'IIZ', 'IIZ', 'IIZ', 'IIZ', 'IIZ', 'IIZ', 'IIZ', 'IIZ', 'IIZ', 'IIZ', 'IIZ', 'IIZ', 'IIZ', 'IIZ', 'IIZ', 'IIZ', 'IIZ', 'IIZ', 'IIZ', 'IIZ', 'IIZ', 'IIZ', 'IIZ', 'IZI', 'IZI', 'IZI', 'IZI', 'IZI', 'IZI', 'IZI', 'IZI', 'IZI', 'IZI', 'IZI', 'IZI', 'IZI', 'IZI', 'IZI', 'IZI', 'IZI', 'IZI', 'IZI', 'IZI', 'IZI', 'IZI', 'IZI', 'IZI', 'IZI', 'IZI', 'IZI', 'IZI', 'IZI', 'IZI', 'IZI', 'IZI', 'IZI', 'IZI', 'IZI', 'IZI', 'IZI', 'IZI', 'IZI', 'IZI', 'IZI', 'IZI', 'IZI', 'IZI', 'IZI', 'IZI', 'IZI', 'IZI', 'IZI', 'IZI', 'IZI', 'IZI', 'IZI', 'IZI', 'IZI', 'IZI', 'IZI', 'IZI', 'IZI', 'IZI', 'IZI', 'IZI', 'IZI', 'IZI', 'IZI', 'IZI', 'IZI', 'IZI', 'IZI', 'IZI', 'IZI', 'IZI', 'IZI', 'IZI', 'IZI', 'IZI', 'IZI', 'IZI', 'IZI', 'IZI', 'IZI', 'IZI', 'IZI', 'IZI', 'IZI', 'IZI', 'IZI', 'IZI', 'IZI', 'IZI', 'IZI', 'IZI', 'IZI', 'IZI', 'IZI', 'IZI', 'IZI', 'IZI', 'IZI', 'IZI', 'IZI', 'IZI', 'IZI', 'IZI', 'IZI', 'IZI', 'IZI', 'IZI', 'IZI', 'IZI', 'IZI', 'IZI', 'IZI', 'IZI', 'IZI', 'IZI', 'IZI', 'IZI', 'IZI', 'IZI', 'IZI', 'IZI', 'IZI', 'IZI', 'IZI', 'IZI', 'IZI', 'IZI', 'IZI', 'IZI', 'IZI', 'IZI', 'IZI', 'IZI', 'IZI', 'IZI', 'IZI', 'IZI', 'IZI', 'IZI', 'IZI', 'IZI', 'IZI', 'IZI', 'IZI', 'IZI', 'IZI', 'IZI', 'IZI', 'IZI', 'IZI', 'IZI', 'IZI', 'IZI', 'IZI', 'IZI', 'IZI', 'IZI', 'IZI', 'IZI', 'IZI', 'IZI', 'IZI', 'IZI', 'IZI', 'IZI', 'IZI', 'IZI', 'IZI', 'IZI', 'IZI', 'IZI', 'IZI', 'IZI', 'IZI', 'IZI', 'IZI', 'IZI', 'IZI', 'IZI', 'IZI', 'IZI', 'IZI', 'IZI', 'IZI', 'IZI', 'IZI', 'IZI', 'IZI', 'IZI', 'IZI', 'IZI', 'IZI', 'IZI', 'IZI', 'IZI', 'IZI', 'IZI', 'IZI', 'IZI', 'IZI', 'IZI', 'IZI', 'IZI', 'IZI', 'IZI', 'IZI', 'IZI', 'IZI', 'IZI', 'IZI', 'IZI', 'IZI', 'IZI', 'IZI', 'IZI', 'IZI', 'IZI', 'IZI', 'IZI', 'IZI', 'IZI', 'IZI', 'IZI', 'IZI', 'IZI', 'IZI', 'IZI', 'IZI', 'IZI', 'IZI', 'IZI', 'IZI', 'IZI', 'IZI', 'IZI', 'IZI', 'IZI', 'IZI', 'IZI', 'IZI', 'IZI', 'IZI', 'IZI', 'IZI', 'IZI', 'IZI', 'IZI', 'IZI', 'IZI', 'IZI', 'IZI', 'IZI', 'IZI', 'IZI', 'IZI', 'IZI', 'IZI', 'IZI', 'IZI', 'IZI', 'IZI', 'IZI', 'IZI', 'IZI', 'IZI', 'IZI', 'IZI', 'IZI', 'IZI', 'IZI', 'IZI', 'IZI', 'IZI', 'IZI', 'IZI', 'IZI', 'IZI', 'IZI', 'IZI', 'IZI', 'IZI', 'IZI', 'IZI', 'IZI', 'IZI', 'IZI', 'IZI', 'IZI', 'IZI', 'IZI', 'IZI', 'IZI', 'IZI', 'IZI', 'IZI', 'IZI', 'IZI', 'IZI', 'IZI', 'IZI', 'IZI', 'IZI', 'IZI', 'IZI', 'IZI', 'IZI', 'IZI', 'IZI', 'IZI', 'IZI', 'IZI', 'IZI', 'IZI', 'IZI', 'IZI', 'IZI', 'IZI', 'IZI', 'IZI', 'IZI', 'IZI', 'IZI', 'IZI', 'IZI', 'IZI', 'IZI', 'IZI', 'IZI', 'IZI', 'IZI', 'IZI', 'IZI', 'IZI', 'IZI', 'IZI', 'IZI', 'IZI', 'IZI', 'IZI', 'IZI', 'IZI', 'IZI', 'IZI', 'IZI', 'IZI', 'IZI', 'IZI', 'IZI', 'IZI', 'IZI', 'IZI', 'IZI', 'IZI', 'IZI', 'IZI', 'IZI', 'IZI', 'IZI', 'IZI', 'IZI', 'IZI', 'IZI', 'IZI', 'IZI', 'IZI', 'IZI', 'IZI', 'IZI', 'IZI', 'IZI', 'IZI', 'IZI', 'IZI', 'IZI', 'IZI', 'IZI', 'IZI', 'IZI', 'IZI', 'IZI', 'IZI', 'IZI', 'IZI', 'IZI', 'IZI', 'IZI', 'IZI', 'IZI', 'IZI', 'IZI', 'IZI', 'IZI', 'IZI', 'IZI', 'IZI', 'IZI', 'IZI', 'IZI', 'IZI', 'IZI', 'IZI', 'IZI', 'IZI', 'IZI', 'IZI', 'IZI', 'IZI', 'IZI', 'IZI', 'IZI', 'IZI', 'IZI', 'IZI', 'IZI', 'IZI', 'IZI', 'IZI', 'IZI', 'IZI', 'IZI', 'IZI', 'IZI', 'IZI', 'IZI', 'IZI', 'IZI', 'IZI', 'IZI', 'IZI', 'IZI', 'IZI', 'IZI', 'IZI', 'IZI', 'IZI', 'IZI', 'IZI', 'IZI', 'IZI', 'IZI', 'IZI', 'IZI', 'IZI', 'IZI', 'IZI', 'IZI', 'IZI', 'IZI', 'IZI', 'IZI', 'IZI', 'IZI', 'IZI', 'IZI', 'IZI', 'IZI', 'IZI', 'IZI', 'IZI', 'IZI', 'IZI', 'IZI', 'IZI', 'IZI', 'IZI', 'IZI', 'IZI', 'IZI', 'IZI', 'IZI', 'IZI', 'IZI', 'IZI', 'IZI', 'IZI', 'IZI', 'IZI', 'IZI', 'IZI', 'IZI', 'IZI', 'IZI', 'IZI', 'IZI', 'IZI', 'IZI', 'IZI', 'IZI', 'IZI', 'IZI', 'IZI', 'IZI', 'IZI', 'IZI', 'IZI', 'IZI', 'IZI', 'IZI', 'IZI', 'ZII', 'ZII', 'ZII', 'ZII', 'ZII', 'ZII', 'ZII', 'ZII', 'ZII', 'ZII', 'ZII', 'ZII', 'ZII', 'ZII', 'ZII', 'ZII', 'ZII', 'ZII', 'ZII', 'ZII', 'ZII', 'ZII', 'ZII', 'ZII', 'ZII', 'ZII', 'ZII', 'ZII', 'ZII', 'ZII', 'ZII', 'ZII', 'ZII', 'ZII', 'ZII', 'ZII', 'ZII', 'ZII', 'ZII', 'ZII', 'ZII', 'ZII', 'ZII', 'ZII', 'ZII', 'ZII', 'ZII', 'ZII', 'ZII', 'ZII', 'ZII', 'ZII', 'ZII', 'ZII', 'ZII', 'ZII', 'ZII', 'ZII', 'ZII', 'ZII', 'ZII', 'ZII', 'ZII', 'ZII', 'ZII', 'ZII', 'ZII', 'ZII', 'ZII', 'ZII', 'ZII', 'ZII', 'ZII', 'ZII', 'ZII', 'ZII', 'ZII', 'ZII', 'ZII', 'ZII', 'ZII', 'ZII', 'ZII', 'ZII', 'ZII', 'ZII', 'ZII', 'ZII', 'ZII', 'ZII', 'ZII', 'ZII', 'ZII', 'ZII', 'ZII', 'ZII', 'ZII', 'ZII', 'ZII', 'ZII', 'ZII', 'ZII', 'ZII', 'ZII', 'ZII', 'ZII', 'ZII', 'ZII', 'ZII', 'ZII', 'ZII', 'ZII', 'ZII', 'ZII', 'ZII', 'ZII', 'ZII', 'ZII', 'ZII', 'ZII', 'ZII', 'ZII', 'ZII', 'ZII', 'ZII', 'ZII', 'ZII', 'ZII', 'ZII', 'ZII', 'ZII', 'ZII', 'ZII', 'ZII', 'ZII', 'ZII', 'ZII', 'ZII', 'ZII', 'ZII', 'ZII', 'ZII', 'ZII', 'ZII', 'ZII', 'ZII', 'ZII', 'ZII', 'ZII', 'ZII', 'ZII', 'ZII', 'ZII', 'ZII', 'ZII', 'ZII', 'ZII', 'ZII', 'ZII', 'ZII', 'ZII', 'ZII', 'ZII', 'ZII', 'ZII', 'ZII', 'ZII', 'ZII', 'ZII', 'ZII', 'ZII', 'ZII', 'ZII', 'ZII', 'ZII', 'ZII', 'ZII', 'ZII', 'ZII', 'ZII', 'ZII', 'ZII', 'ZII', 'ZII', 'ZII', 'ZII', 'ZII', 'ZII', 'ZII', 'ZII', 'ZII', 'ZII', 'ZII', 'ZII', 'ZII', 'ZII', 'ZII', 'ZII', 'ZII', 'ZII', 'ZII', 'ZII', 'ZII', 'ZII', 'ZII', 'ZII', 'ZII', 'ZII', 'ZII', 'ZII', 'ZII', 'ZII', 'ZII', 'ZII', 'ZII', 'ZII', 'ZII', 'ZII', 'ZII', 'ZII', 'ZII', 'ZII', 'ZII', 'ZII', 'ZII', 'ZII', 'ZII', 'ZII', 'ZII', 'ZII', 'ZII', 'ZII', 'ZII', 'ZII', 'ZII', 'ZII', 'ZII', 'ZII', 'ZII', 'ZII', 'ZII', 'ZII', 'ZII', 'ZII', 'ZII', 'ZII', 'ZII', 'ZII', 'ZII', 'ZII', 'ZII', 'ZII', 'ZII', 'ZII', 'ZII', 'ZII', 'ZII', 'ZII', 'ZII', 'ZII', 'ZII', 'ZII', 'ZII', 'ZII', 'ZII', 'ZII', 'ZII', 'ZII', 'ZII', 'ZII', 'ZII', 'ZII', 'ZII', 'ZII', 'ZII', 'ZII', 'ZII', 'ZII', 'ZII', 'ZII', 'ZII', 'ZII', 'ZII', 'ZII', 'ZII', 'ZII', 'ZII', 'ZII', 'ZII', 'ZII', 'ZII', 'ZII', 'ZII', 'ZII', 'ZII', 'ZII', 'ZII', 'ZII', 'ZII', 'ZII', 'ZII', 'ZII', 'ZII', 'ZII', 'ZII', 'ZII', 'ZII', 'ZII', 'ZII', 'ZII', 'ZII', 'ZII', 'ZII', 'ZII', 'ZII', 'ZII', 'ZII', 'ZII', 'ZII', 'ZII', 'ZII', 'ZII', 'ZII', 'ZII', 'ZII', 'ZII', 'ZII', 'ZII', 'ZII', 'ZII', 'ZII', 'ZII', 'ZII', 'ZII', 'ZII', 'ZII', 'ZII', 'ZII', 'ZII', 'ZII', 'ZII', 'ZII', 'ZII', 'ZII', 'ZII', 'ZII', 'ZII', 'ZII', 'ZII', 'ZII', 'ZII', 'ZII', 'ZII', 'ZII', 'ZII', 'ZII', 'ZII', 'ZII', 'ZII', 'ZII', 'ZII', 'ZII', 'ZII', 'ZII', 'ZII', 'ZII', 'ZII', 'ZII', 'ZII', 'ZII', 'ZII', 'ZII', 'ZII', 'ZII', 'ZII', 'ZII', 'ZII', 'ZII', 'ZII', 'ZII', 'ZII', 'ZII', 'ZII', 'ZII', 'ZII', 'ZII', 'ZII', 'ZII', 'ZII', 'ZII', 'ZII', 'ZII', 'ZII', 'ZII', 'ZII', 'ZII', 'ZII', 'ZII', 'ZII', 'ZII', 'ZII', 'ZII', 'ZII', 'ZII', 'ZII', 'ZII', 'ZII', 'ZII', 'ZII', 'ZII', 'ZII', 'ZII', 'ZII', 'ZII', 'ZII', 'ZII', 'ZII', 'ZII', 'ZII', 'ZII', 'ZII', 'ZII', 'ZII', 'ZII', 'ZII', 'ZII', 'ZII', 'ZII', 'ZII', 'ZII', 'ZII', 'ZII', 'ZII', 'ZII', 'ZII', 'ZII', 'ZII', 'ZII', 'ZII', 'ZII', 'ZII', 'ZII', 'ZII', 'ZII', 'ZII', 'ZII', 'ZII', 'ZII', 'ZII', 'ZII', 'ZII', 'ZII', 'ZII', 'ZII', 'ZII', 'ZII', 'ZII', 'ZII', 'ZII', 'ZII', 'ZII', 'ZII', 'ZII', 'ZII', 'ZII', 'ZII', 'ZII', 'ZII', 'ZII', 'ZII', 'ZII', 'ZII', 'ZII', 'ZII', 'ZII', 'ZII', 'ZII', 'ZII', 'ZII', 'ZII', 'ZII', 'ZII', 'ZII', 'ZII', 'ZII', 'ZII', 'ZII', 'ZII', 'ZII', 'ZII', 'ZII', 'ZII', 'ZII', 'ZII', 'ZII', 'ZII', 'ZII', 'ZII', 'ZII', 'ZII', 'IZZ', 'ZIZ', 'ZZI'],\n",
      "              coeffs=[-6.+0.j, -6.+0.j, -6.+0.j, ...,  1.+0.j,  1.+0.j,  1.+0.j])\n",
      "\n",
      "Constant shift:\n",
      "9099.999999999909\n"
     ]
    }
   ],
   "source": [
    "import numpy as np\n",
    "from qiskit.quantum_info import Pauli, SparsePauliOp\n",
    "\n",
    "# Hypothetical data and values for the problem\n",
    "# Replace these with actual data if desired\n",
    "\n",
    "num_routes = 3\n",
    "\n",
    "# Cost per kilometer per car for each route -> Thinnest route, route 1 will have a higher cost\n",
    "congestion_costs = [12.0, 6.2, 4.0]  \n",
    "distances = [1, 2, 3]  # Distances of each route in kilometers\n",
    "num_cars = 500\n",
    "\n",
    "def get_operator(congestion_costs, distances, num_cars) -> tuple[SparsePauliOp, float]:\n",
    "    num_routes = len(congestion_costs)\n",
    "    pauli_list = []\n",
    "    coeffs = []\n",
    "    shift = 0\n",
    "\n",
    "    # Calculate the linear terms corresponding to congestion costs\n",
    "    for i in range(num_routes):\n",
    "        for j in range(num_cars):\n",
    "            x_p = np.zeros(num_routes, dtype=bool)\n",
    "            z_p = np.zeros(num_routes, dtype=bool)\n",
    "            z_p[i] = True\n",
    "            pauli_list.append(Pauli((z_p, x_p)))\n",
    "            coeffs.append(-0.5 * congestion_costs[i] * distances[i])\n",
    "            shift += 0.5 * congestion_costs[i] * distances[i]\n",
    "\n",
    "    # Calculate the quadratic terms for the capacity constraint\n",
    "    for i in range(num_routes):\n",
    "        for j in range(i + 1, num_routes):\n",
    "            x_p = np.zeros(num_routes, dtype=bool)\n",
    "            z_p = np.zeros(num_routes, dtype=bool)\n",
    "            z_p[i] = True\n",
    "            z_p[j] = True\n",
    "            pauli_list.append(Pauli((z_p, x_p)))\n",
    "            coeffs.append(1.0)\n",
    "\n",
    "    return SparsePauliOp(pauli_list, coeffs=coeffs), shift\n",
    "\n",
    "# Example usage with hypothetical data and values\n",
    "\n",
    "qubit_op, constant_shift = get_operator(congestion_costs, distances, num_cars)\n",
    "\n",
    "# qubit_op now represents the Ising Hamiltonian, and offset is a constant shift\n",
    "print(\"Ising Hamiltonian:\")\n",
    "print(qubit_op)\n",
    "print(\"\\nConstant shift:\")\n",
    "print(constant_shift)\n"
   ]
  },
  {
   "cell_type": "code",
   "execution_count": 27,
   "id": "6f338eaf",
   "metadata": {},
   "outputs": [],
   "source": [
    "from typing import Union\n",
    "\n",
    "from qiskit.algorithms.minimum_eigensolvers import QAOA\n",
    "from qiskit.algorithms.optimizers import COBYLA\n",
    "from qiskit.quantum_info import Statevector\n",
    "from qiskit.result import QuasiDistribution\n",
    "from qiskit.utils import algorithm_globals\n",
    "\n",
    "from qiskit_ibm_runtime import Sampler, Session"
   ]
  },
  {
   "cell_type": "code",
   "execution_count": null,
   "id": "b648b3f6",
   "metadata": {},
   "outputs": [],
   "source": [
    "from scipy.optimize import minimize\n",
    "\n",
    "# Define the constraint function for the total number of cars\n",
    "def constraint_total_cars(x):\n",
    "    return np.sum(x) - 500\n",
    "\n",
    "# Define the objective function to minimize congestion cost\n",
    "def objective_function(x):\n",
    "    total_cost = np.sum(x * np.array(congestion_costs))\n",
    "    return total_cost\n",
    "\n",
    "# Initial guess for the allocation of cars\n",
    "x0 = np.array([1, 1, 1])  # You can adjust the initial guess\n",
    "\n",
    "# Define the bounds for the number of cars per route\n",
    "bounds = [(0, 50) for _ in range(len(congestion_costs))]  # Adjust the bounds as needed\n",
    "\n",
    "# Define the equality constraint (total number of cars)\n",
    "constraints = {'type': 'eq', 'fun': constraint_total_cars}\n",
    "\n",
    "# Optimize the objective function with constraints\n",
    "result = minimize(objective_function, x0, method='SLSQP', bounds=bounds, constraints=constraints)\n",
    "\n",
    "# Extract the optimal allocation of cars\n",
    "optimal_allocation = result.x\n",
    "\n",
    "print(f\"Optimal Allocation of Cars Per Route: {optimal_allocation}\")\n",
    "print(f\"Minimum Total Congestion Cost: {result.fun}\")"
   ]
  },
  {
   "cell_type": "code",
   "execution_count": 41,
   "id": "c790655b",
   "metadata": {},
   "outputs": [
    {
     "name": "stdout",
     "output_type": "stream",
     "text": [
      "Objective value computed by QAOA is [1 0 0]\n"
     ]
    }
   ],
   "source": [
    "from typing import Union\n",
    "\n",
    "from qiskit.algorithms.minimum_eigensolvers import QAOA\n",
    "from qiskit.algorithms.optimizers import COBYLA\n",
    "from qiskit.quantum_info import Statevector\n",
    "from qiskit.result import QuasiDistribution\n",
    "from qiskit.utils import algorithm_globals\n",
    "\n",
    "from qiskit_ibm_runtime import Sampler, Session\n",
    "\n",
    "\n",
    "# def objective_value(x: np.ndarray, w: np.ndarray) -> float:\n",
    "#     X = np.outer(x, (1 - x))\n",
    "#     w_01 = np.where(w != 0, 1, 0)\n",
    "#     return np.sum(w_01 * X)\n",
    "\n",
    "\n",
    "def bitfield(n: int, L: int) -> list[int]:\n",
    "    result = np.binary_repr(n, L)\n",
    "    return [int(digit) for digit in result]  # [2:] to chop off the \"0b\" part\n",
    "\n",
    "\n",
    "def sample_most_likely(\n",
    "    state_vector: Union[QuasiDistribution, Statevector]\n",
    ") -> np.ndarray:\n",
    "    \"\"\"Compute the most likely binary string from state vector.\n",
    "    Args:\n",
    "        state_vector: State vector or quasi-distribution.\n",
    "\n",
    "    Returns:\n",
    "        Binary string as an array of ints.\n",
    "    \"\"\"\n",
    "    if isinstance(state_vector, QuasiDistribution):\n",
    "        values = list(state_vector.values())\n",
    "    else:\n",
    "        values = state_vector\n",
    "    n = int(np.log2(len(values)))\n",
    "    k = np.argmax(np.abs(values))\n",
    "    x = bitfield(k, n)\n",
    "    x.reverse()\n",
    "    return np.asarray(x)\n",
    "\n",
    "\n",
    "algorithm_globals.random_seed = 10598\n",
    "optimizer = COBYLA()\n",
    "\n",
    "with Session(service=service, backend=backend):\n",
    "    sampler = Sampler()\n",
    "    qaoa = QAOA(sampler, optimizer, reps=2)\n",
    "    result = qaoa.compute_minimum_eigenvalue(qubit_op)\n",
    "    x = sample_most_likely(result.eigenstate)\n",
    "\n",
    "print(f\"Objective value computed by QAOA is {x}\")"
   ]
  },
  {
   "cell_type": "code",
   "execution_count": 42,
   "id": "53b376b4",
   "metadata": {},
   "outputs": [],
   "source": [
    "def total_congestion_cost(x: np.ndarray, qubit_op: SparsePauliOp, num_cars: int) -> float:\n",
    "    \"\"\"Compute the total congestion cost for a given allocation of cars to routes.\n",
    "    Args:\n",
    "        x: Binary string as numpy array representing the car allocation.\n",
    "        qubit_op: Ising Hamiltonian representing the congestion costs.\n",
    "        num_cars: Total number of cars to allocate.\n",
    "\n",
    "    Returns:\n",
    "        Total congestion cost.\n",
    "    \"\"\"\n",
    "    # Calculate the objective value as the expectation value of the Ising Hamiltonian\n",
    "    expectation_value = Statevector(x).expectation(qubit_op).real\n",
    "\n",
    "    # Normalize by the total number of cars to get the total cost\n",
    "    total_cost = -expectation_value / num_cars\n",
    "\n",
    "    return total_cost\n"
   ]
  },
  {
   "cell_type": "code",
   "execution_count": 44,
   "id": "a2363729",
   "metadata": {},
   "outputs": [
    {
     "ename": "AttributeError",
     "evalue": "'Statevector' object has no attribute 'expectation'",
     "output_type": "error",
     "traceback": [
      "\u001b[1;31m---------------------------------------------------------------------------\u001b[0m",
      "\u001b[1;31mAttributeError\u001b[0m                            Traceback (most recent call last)",
      "Cell \u001b[1;32mIn[44], line 11\u001b[0m\n\u001b[0;32m      8\u001b[0m     x \u001b[38;5;241m=\u001b[39m sample_most_likely(result\u001b[38;5;241m.\u001b[39meigenstate)\n\u001b[0;32m     10\u001b[0m \u001b[38;5;66;03m# Calculate the minimum total congestion cost\u001b[39;00m\n\u001b[1;32m---> 11\u001b[0m min_congestion_cost \u001b[38;5;241m=\u001b[39m \u001b[43mtotal_congestion_cost\u001b[49m\u001b[43m(\u001b[49m\u001b[43mx\u001b[49m\u001b[43m,\u001b[49m\u001b[43m \u001b[49m\u001b[43mqubit_op\u001b[49m\u001b[43m,\u001b[49m\u001b[43m \u001b[49m\u001b[43mnum_cars\u001b[49m\u001b[43m)\u001b[49m\n\u001b[0;32m     13\u001b[0m \u001b[38;5;28mprint\u001b[39m(\u001b[38;5;124mf\u001b[39m\u001b[38;5;124m\"\u001b[39m\u001b[38;5;124mMinimum total congestion cost is \u001b[39m\u001b[38;5;132;01m{\u001b[39;00mmin_congestion_cost\u001b[38;5;132;01m}\u001b[39;00m\u001b[38;5;124m\"\u001b[39m)\n\u001b[0;32m     14\u001b[0m \u001b[38;5;28mprint\u001b[39m(\u001b[38;5;124mf\u001b[39m\u001b[38;5;124m\"\u001b[39m\u001b[38;5;124mCar allocation: \u001b[39m\u001b[38;5;132;01m{\u001b[39;00mx\u001b[38;5;132;01m}\u001b[39;00m\u001b[38;5;124m\"\u001b[39m)\n",
      "Cell \u001b[1;32mIn[43], line 12\u001b[0m, in \u001b[0;36mtotal_congestion_cost\u001b[1;34m(x, qubit_op, num_cars)\u001b[0m\n\u001b[0;32m      2\u001b[0m \u001b[38;5;250m\u001b[39m\u001b[38;5;124;03m\"\"\"Compute the total congestion cost for a given allocation of cars to routes.\u001b[39;00m\n\u001b[0;32m      3\u001b[0m \u001b[38;5;124;03mArgs:\u001b[39;00m\n\u001b[0;32m      4\u001b[0m \u001b[38;5;124;03m    x: Binary string as numpy array representing the car allocation.\u001b[39;00m\n\u001b[1;32m   (...)\u001b[0m\n\u001b[0;32m      9\u001b[0m \u001b[38;5;124;03m    Total congestion cost.\u001b[39;00m\n\u001b[0;32m     10\u001b[0m \u001b[38;5;124;03m\"\"\"\u001b[39;00m\n\u001b[0;32m     11\u001b[0m \u001b[38;5;66;03m# Calculate the objective value as the expectation value of the Ising Hamiltonian\u001b[39;00m\n\u001b[1;32m---> 12\u001b[0m expectation_value \u001b[38;5;241m=\u001b[39m \u001b[43mStatevector\u001b[49m\u001b[43m(\u001b[49m\u001b[43mx\u001b[49m\u001b[43m)\u001b[49m\u001b[38;5;241;43m.\u001b[39;49m\u001b[43mexpectation\u001b[49m(qubit_op)\u001b[38;5;241m.\u001b[39mreal\n\u001b[0;32m     14\u001b[0m \u001b[38;5;66;03m# Normalize by the total number of cars to get the total cost\u001b[39;00m\n\u001b[0;32m     15\u001b[0m total_cost \u001b[38;5;241m=\u001b[39m \u001b[38;5;241m-\u001b[39mexpectation_value \u001b[38;5;241m/\u001b[39m num_cars\n",
      "\u001b[1;31mAttributeError\u001b[0m: 'Statevector' object has no attribute 'expectation'"
     ]
    }
   ],
   "source": [
    "algorithm_globals.random_seed = 10598\n",
    "optimizer = COBYLA()\n",
    "\n",
    "with Session(service=service, backend=backend):\n",
    "    sampler = Sampler()\n",
    "    qaoa = QAOA(sampler, optimizer, reps=2)\n",
    "    result = qaoa.compute_minimum_eigenvalue(qubit_op)\n",
    "    x = sample_most_likely(result.eigenstate)\n",
    "\n",
    "# Calculate the minimum total congestion cost\n",
    "min_congestion_cost = total_congestion_cost(x, qubit_op, num_cars)\n",
    "\n",
    "print(f\"Minimum total congestion cost is {min_congestion_cost}\")\n",
    "print(f\"Car allocation: {x}\")\n"
   ]
  },
  {
   "cell_type": "code",
   "execution_count": null,
   "id": "eb49f769",
   "metadata": {},
   "outputs": [],
   "source": []
  }
 ],
 "metadata": {
  "kernelspec": {
   "display_name": "Python 3 (ipykernel)",
   "language": "python",
   "name": "python3"
  },
  "language_info": {
   "codemirror_mode": {
    "name": "ipython",
    "version": 3
   },
   "file_extension": ".py",
   "mimetype": "text/x-python",
   "name": "python",
   "nbconvert_exporter": "python",
   "pygments_lexer": "ipython3",
   "version": "3.10.9"
  }
 },
 "nbformat": 4,
 "nbformat_minor": 5
}
